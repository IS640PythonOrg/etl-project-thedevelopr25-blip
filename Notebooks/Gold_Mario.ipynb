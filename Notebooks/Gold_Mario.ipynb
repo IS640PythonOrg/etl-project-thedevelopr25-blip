{
 "cells": [
  {
   "cell_type": "markdown",
   "id": "0c7b43b5",
   "metadata": {},
   "source": [
    "# Gold Layer 🥇\n",
    "This notebook creates the Gold Layer for the Mario Medallion Architecture. It summarizes and aggregates the cleaned data from the Silver Layer to produce analytics-ready tables."
   ]
  },
  {
   "cell_type": "markdown",
   "id": "a38e2ea7",
   "metadata": {},
   "source": [
    "## Imports ⬇️\n",
    "Import the necessary libraries for data processing."
   ]
  },
  {
   "cell_type": "code",
   "execution_count": 24,
   "id": "3232dbaa",
   "metadata": {},
   "outputs": [],
   "source": [
    "import pandas as pd\n",
    "import numpy as np\n",
    "import json\n",
    "import numpy as np"
   ]
  },
  {
   "cell_type": "code",
   "execution_count": 25,
   "id": "a45849e9",
   "metadata": {},
   "outputs": [],
   "source": [
    "def convert_for_json(obj):\n",
    "    if isinstance(obj, (np.integer, np.floating)):\n",
    "        return obj.item()\n",
    "    if isinstance(obj, (np.ndarray,)):\n",
    "        return obj.tolist()\n",
    "    return obj\n",
    "\n",
    "def get_metrics(df):\n",
    "    metrics = {}\n",
    "    metrics['rows'] = int(df.shape[0])\n",
    "    metrics['columns'] = int(df.shape[1])\n",
    "    metrics['unique_counts'] = {col: int(df[col].nunique()) for col in df.columns}\n",
    "    metrics['sums'] = {col: float(df[col].sum()) for col in df.select_dtypes(include=[np.number]).columns}\n",
    "    return metrics"
   ]
  },
  {
   "cell_type": "markdown",
   "id": "4b0b6609",
   "metadata": {},
   "source": [
    "## Load Silver Layer Data 🔄\n",
    "Load the cleaned and validated data from the Silver Layer parquet file."
   ]
  },
  {
   "cell_type": "code",
   "execution_count": 2,
   "id": "76f9a118",
   "metadata": {},
   "outputs": [],
   "source": [
    "# Load the Silver Layer parquet file\n",
    "df = pd.read_parquet('../Medallion Architecture/silver/silver_transactions.parquet')"
   ]
  },
  {
   "cell_type": "code",
   "execution_count": 3,
   "id": "5ff0515e",
   "metadata": {},
   "outputs": [
    {
     "data": {
      "application/vnd.microsoft.datawrangler.viewer.v0+json": {
       "columns": [
        {
         "name": "index",
         "rawType": "int64",
         "type": "integer"
        },
        {
         "name": "Player Name",
         "rawType": "string",
         "type": "string"
        },
        {
         "name": "Team",
         "rawType": "object",
         "type": "string"
        },
        {
         "name": "World",
         "rawType": "object",
         "type": "string"
        },
        {
         "name": "Vehicle Type",
         "rawType": "object",
         "type": "string"
        },
        {
         "name": "Companion",
         "rawType": "object",
         "type": "string"
        },
        {
         "name": "Kart Racing Rank",
         "rawType": "string",
         "type": "string"
        },
        {
         "name": "Platforming Rank",
         "rawType": "string",
         "type": "string"
        },
        {
         "name": "Boss Battle Rank",
         "rawType": "string",
         "type": "string"
        },
        {
         "name": "Power-Ups Used",
         "rawType": "int32",
         "type": "integer"
        },
        {
         "name": "Kart Role",
         "rawType": "string",
         "type": "string"
        },
        {
         "name": "Team Points",
         "rawType": "int32",
         "type": "integer"
        },
        {
         "name": "Lives Lost",
         "rawType": "int32",
         "type": "integer"
        },
        {
         "name": "Participation in Battle Mode",
         "rawType": "bool",
         "type": "boolean"
        },
        {
         "name": "Mushroom Cup Participation",
         "rawType": "bool",
         "type": "boolean"
        },
        {
         "name": "Power-Ups Owned",
         "rawType": "string",
         "type": "string"
        },
        {
         "name": "Coins Spent in Toad Town",
         "rawType": "int32",
         "type": "integer"
        },
        {
         "name": "Levels Completed",
         "rawType": "int32",
         "type": "integer"
        },
        {
         "name": "Times Hit by Enemies",
         "rawType": "int32",
         "type": "integer"
        },
        {
         "name": "Primary Game",
         "rawType": "object",
         "type": "string"
        },
        {
         "name": "mario_sim",
         "rawType": "float64",
         "type": "float"
        }
       ],
       "ref": "dc037873-1bdd-4b6e-b4ec-3e723eb788e2",
       "rows": [
        [
         "0",
         "Yoshi",
         "Toad Brigade",
         "Yoshi's Island",
         "Comet Bike",
         "Polterpup",
         "A",
         "A",
         "A",
         "12",
         "Drifter",
         "-34",
         "0",
         "True",
         "True",
         "1-Up Mushroom",
         "64",
         "26",
         "4",
         "Mario Tennis Aces",
         "0.25"
        ],
        [
         "1",
         "Peach",
         "Green Caps",
         "Donut Plains",
         "Circuit Special",
         "Koopa Troopa",
         "C",
         "A",
         "B",
         "16",
         "Drifter",
         "149",
         "4",
         "True",
         "True",
         "Red Shell, Super Star",
         "335",
         "40",
         "5",
         "Mario Tennis Aces",
         "0.1"
        ],
        [
         "2",
         "Waluigi",
         "No Team",
         "Yoshi's Island",
         "Biddybuggy",
         "Goomba",
         "D",
         "A",
         "C",
         "26",
         "Blocker",
         "174",
         "1",
         "True",
         "True",
         "Green Shell",
         "182",
         "57",
         "5",
         "Mario Kart 8 Deluxe",
         "0.2222222222222222"
        ],
        [
         "3",
         "Yoshi",
         "Toad Brigade",
         "Star World",
         "Pipe Frame",
         "Goomba",
         "C",
         "D",
         "A",
         "23",
         "Drifter",
         "-1",
         "5",
         "True",
         "True",
         "1-Up Mushroom",
         "333",
         "84",
         "6",
         "Super Mario Bros.",
         "0.25"
        ],
        [
         "4",
         "Bowser Jr.",
         "Koopa Clan",
         "Mushroom Kingdom",
         "Pipe Frame",
         "Toad",
         "C",
         "C",
         "B",
         "10",
         "Blocker",
         "28",
         "2",
         "True",
         "True",
         "Red Shell, Banana Peel, Fire Flower",
         "461",
         "55",
         "7",
         "Super Mario World",
         "0.16666666666666666"
        ]
       ],
       "shape": {
        "columns": 20,
        "rows": 5
       }
      },
      "text/html": [
       "<div>\n",
       "<style scoped>\n",
       "    .dataframe tbody tr th:only-of-type {\n",
       "        vertical-align: middle;\n",
       "    }\n",
       "\n",
       "    .dataframe tbody tr th {\n",
       "        vertical-align: top;\n",
       "    }\n",
       "\n",
       "    .dataframe thead th {\n",
       "        text-align: right;\n",
       "    }\n",
       "</style>\n",
       "<table border=\"1\" class=\"dataframe\">\n",
       "  <thead>\n",
       "    <tr style=\"text-align: right;\">\n",
       "      <th></th>\n",
       "      <th>Player Name</th>\n",
       "      <th>Team</th>\n",
       "      <th>World</th>\n",
       "      <th>Vehicle Type</th>\n",
       "      <th>Companion</th>\n",
       "      <th>Kart Racing Rank</th>\n",
       "      <th>Platforming Rank</th>\n",
       "      <th>Boss Battle Rank</th>\n",
       "      <th>Power-Ups Used</th>\n",
       "      <th>Kart Role</th>\n",
       "      <th>Team Points</th>\n",
       "      <th>Lives Lost</th>\n",
       "      <th>Participation in Battle Mode</th>\n",
       "      <th>Mushroom Cup Participation</th>\n",
       "      <th>Power-Ups Owned</th>\n",
       "      <th>Coins Spent in Toad Town</th>\n",
       "      <th>Levels Completed</th>\n",
       "      <th>Times Hit by Enemies</th>\n",
       "      <th>Primary Game</th>\n",
       "      <th>mario_sim</th>\n",
       "    </tr>\n",
       "  </thead>\n",
       "  <tbody>\n",
       "    <tr>\n",
       "      <th>0</th>\n",
       "      <td>Yoshi</td>\n",
       "      <td>Toad Brigade</td>\n",
       "      <td>Yoshi's Island</td>\n",
       "      <td>Comet Bike</td>\n",
       "      <td>Polterpup</td>\n",
       "      <td>A</td>\n",
       "      <td>A</td>\n",
       "      <td>A</td>\n",
       "      <td>12</td>\n",
       "      <td>Drifter</td>\n",
       "      <td>-34</td>\n",
       "      <td>0</td>\n",
       "      <td>True</td>\n",
       "      <td>True</td>\n",
       "      <td>1-Up Mushroom</td>\n",
       "      <td>64</td>\n",
       "      <td>26</td>\n",
       "      <td>4</td>\n",
       "      <td>Mario Tennis Aces</td>\n",
       "      <td>0.250000</td>\n",
       "    </tr>\n",
       "    <tr>\n",
       "      <th>1</th>\n",
       "      <td>Peach</td>\n",
       "      <td>Green Caps</td>\n",
       "      <td>Donut Plains</td>\n",
       "      <td>Circuit Special</td>\n",
       "      <td>Koopa Troopa</td>\n",
       "      <td>C</td>\n",
       "      <td>A</td>\n",
       "      <td>B</td>\n",
       "      <td>16</td>\n",
       "      <td>Drifter</td>\n",
       "      <td>149</td>\n",
       "      <td>4</td>\n",
       "      <td>True</td>\n",
       "      <td>True</td>\n",
       "      <td>Red Shell, Super Star</td>\n",
       "      <td>335</td>\n",
       "      <td>40</td>\n",
       "      <td>5</td>\n",
       "      <td>Mario Tennis Aces</td>\n",
       "      <td>0.100000</td>\n",
       "    </tr>\n",
       "    <tr>\n",
       "      <th>2</th>\n",
       "      <td>Waluigi</td>\n",
       "      <td>No Team</td>\n",
       "      <td>Yoshi's Island</td>\n",
       "      <td>Biddybuggy</td>\n",
       "      <td>Goomba</td>\n",
       "      <td>D</td>\n",
       "      <td>A</td>\n",
       "      <td>C</td>\n",
       "      <td>26</td>\n",
       "      <td>Blocker</td>\n",
       "      <td>174</td>\n",
       "      <td>1</td>\n",
       "      <td>True</td>\n",
       "      <td>True</td>\n",
       "      <td>Green Shell</td>\n",
       "      <td>182</td>\n",
       "      <td>57</td>\n",
       "      <td>5</td>\n",
       "      <td>Mario Kart 8 Deluxe</td>\n",
       "      <td>0.222222</td>\n",
       "    </tr>\n",
       "    <tr>\n",
       "      <th>3</th>\n",
       "      <td>Yoshi</td>\n",
       "      <td>Toad Brigade</td>\n",
       "      <td>Star World</td>\n",
       "      <td>Pipe Frame</td>\n",
       "      <td>Goomba</td>\n",
       "      <td>C</td>\n",
       "      <td>D</td>\n",
       "      <td>A</td>\n",
       "      <td>23</td>\n",
       "      <td>Drifter</td>\n",
       "      <td>-1</td>\n",
       "      <td>5</td>\n",
       "      <td>True</td>\n",
       "      <td>True</td>\n",
       "      <td>1-Up Mushroom</td>\n",
       "      <td>333</td>\n",
       "      <td>84</td>\n",
       "      <td>6</td>\n",
       "      <td>Super Mario Bros.</td>\n",
       "      <td>0.250000</td>\n",
       "    </tr>\n",
       "    <tr>\n",
       "      <th>4</th>\n",
       "      <td>Bowser Jr.</td>\n",
       "      <td>Koopa Clan</td>\n",
       "      <td>Mushroom Kingdom</td>\n",
       "      <td>Pipe Frame</td>\n",
       "      <td>Toad</td>\n",
       "      <td>C</td>\n",
       "      <td>C</td>\n",
       "      <td>B</td>\n",
       "      <td>10</td>\n",
       "      <td>Blocker</td>\n",
       "      <td>28</td>\n",
       "      <td>2</td>\n",
       "      <td>True</td>\n",
       "      <td>True</td>\n",
       "      <td>Red Shell, Banana Peel, Fire Flower</td>\n",
       "      <td>461</td>\n",
       "      <td>55</td>\n",
       "      <td>7</td>\n",
       "      <td>Super Mario World</td>\n",
       "      <td>0.166667</td>\n",
       "    </tr>\n",
       "  </tbody>\n",
       "</table>\n",
       "</div>"
      ],
      "text/plain": [
       "  Player Name          Team             World     Vehicle Type     Companion  \\\n",
       "0       Yoshi  Toad Brigade    Yoshi's Island       Comet Bike     Polterpup   \n",
       "1       Peach    Green Caps      Donut Plains  Circuit Special  Koopa Troopa   \n",
       "2     Waluigi       No Team    Yoshi's Island       Biddybuggy        Goomba   \n",
       "3       Yoshi  Toad Brigade        Star World       Pipe Frame        Goomba   \n",
       "4  Bowser Jr.    Koopa Clan  Mushroom Kingdom       Pipe Frame          Toad   \n",
       "\n",
       "  Kart Racing Rank Platforming Rank Boss Battle Rank  Power-Ups Used  \\\n",
       "0                A                A                A              12   \n",
       "1                C                A                B              16   \n",
       "2                D                A                C              26   \n",
       "3                C                D                A              23   \n",
       "4                C                C                B              10   \n",
       "\n",
       "  Kart Role  Team Points  Lives Lost  Participation in Battle Mode  \\\n",
       "0   Drifter          -34           0                          True   \n",
       "1   Drifter          149           4                          True   \n",
       "2   Blocker          174           1                          True   \n",
       "3   Drifter           -1           5                          True   \n",
       "4   Blocker           28           2                          True   \n",
       "\n",
       "   Mushroom Cup Participation                      Power-Ups Owned  \\\n",
       "0                        True                        1-Up Mushroom   \n",
       "1                        True                Red Shell, Super Star   \n",
       "2                        True                          Green Shell   \n",
       "3                        True                        1-Up Mushroom   \n",
       "4                        True  Red Shell, Banana Peel, Fire Flower   \n",
       "\n",
       "   Coins Spent in Toad Town  Levels Completed  Times Hit by Enemies  \\\n",
       "0                        64                26                     4   \n",
       "1                       335                40                     5   \n",
       "2                       182                57                     5   \n",
       "3                       333                84                     6   \n",
       "4                       461                55                     7   \n",
       "\n",
       "          Primary Game  mario_sim  \n",
       "0    Mario Tennis Aces   0.250000  \n",
       "1    Mario Tennis Aces   0.100000  \n",
       "2  Mario Kart 8 Deluxe   0.222222  \n",
       "3    Super Mario Bros.   0.250000  \n",
       "4    Super Mario World   0.166667  "
      ]
     },
     "execution_count": 3,
     "metadata": {},
     "output_type": "execute_result"
    }
   ],
   "source": [
    "df.head()"
   ]
  },
  {
   "cell_type": "markdown",
   "id": "d14be376",
   "metadata": {},
   "source": [
    "## Player-Level Summary Statistics 📊\n",
    "Aggregate the data to create player-level summary statistics, such as total coins spent, total levels completed, and average ranks."
   ]
  },
  {
   "cell_type": "markdown",
   "id": "b92e95e8",
   "metadata": {},
   "source": [
    "### 1. Team Performance: Aggregate team points, average rank, and total coins spent per team"
   ]
  },
  {
   "cell_type": "code",
   "execution_count": 4,
   "id": "70505cf5",
   "metadata": {},
   "outputs": [
    {
     "data": {
      "application/vnd.microsoft.datawrangler.viewer.v0+json": {
       "columns": [
        {
         "name": "index",
         "rawType": "int64",
         "type": "integer"
        },
        {
         "name": "Team",
         "rawType": "object",
         "type": "string"
        },
        {
         "name": "Team Points",
         "rawType": "int32",
         "type": "integer"
        },
        {
         "name": "Kart Racing Rank Num",
         "rawType": "float64",
         "type": "float"
        },
        {
         "name": "Coins Spent in Toad Town",
         "rawType": "int32",
         "type": "integer"
        }
       ],
       "ref": "b9ad58ad-9488-48d3-a8ad-94e762c80d53",
       "rows": [
        [
         "0",
         "Dino Buddies",
         "274062",
         "3.0",
         "1363819"
        ],
        [
         "1",
         "Green Caps",
         "283310",
         "3.01",
         "1411585"
        ],
        [
         "2",
         "Koopa Clan",
         "282558",
         "2.99",
         "1375545"
        ],
        [
         "3",
         "Mushroom Royalty",
         "284478",
         "3.0",
         "1438670"
        ],
        [
         "4",
         "No Team",
         "138202",
         "3.04",
         "741924"
        ]
       ],
       "shape": {
        "columns": 4,
        "rows": 5
       }
      },
      "text/html": [
       "<div>\n",
       "<style scoped>\n",
       "    .dataframe tbody tr th:only-of-type {\n",
       "        vertical-align: middle;\n",
       "    }\n",
       "\n",
       "    .dataframe tbody tr th {\n",
       "        vertical-align: top;\n",
       "    }\n",
       "\n",
       "    .dataframe thead th {\n",
       "        text-align: right;\n",
       "    }\n",
       "</style>\n",
       "<table border=\"1\" class=\"dataframe\">\n",
       "  <thead>\n",
       "    <tr style=\"text-align: right;\">\n",
       "      <th></th>\n",
       "      <th>Team</th>\n",
       "      <th>Team Points</th>\n",
       "      <th>Kart Racing Rank Num</th>\n",
       "      <th>Coins Spent in Toad Town</th>\n",
       "    </tr>\n",
       "  </thead>\n",
       "  <tbody>\n",
       "    <tr>\n",
       "      <th>0</th>\n",
       "      <td>Dino Buddies</td>\n",
       "      <td>274062</td>\n",
       "      <td>3.00</td>\n",
       "      <td>1363819</td>\n",
       "    </tr>\n",
       "    <tr>\n",
       "      <th>1</th>\n",
       "      <td>Green Caps</td>\n",
       "      <td>283310</td>\n",
       "      <td>3.01</td>\n",
       "      <td>1411585</td>\n",
       "    </tr>\n",
       "    <tr>\n",
       "      <th>2</th>\n",
       "      <td>Koopa Clan</td>\n",
       "      <td>282558</td>\n",
       "      <td>2.99</td>\n",
       "      <td>1375545</td>\n",
       "    </tr>\n",
       "    <tr>\n",
       "      <th>3</th>\n",
       "      <td>Mushroom Royalty</td>\n",
       "      <td>284478</td>\n",
       "      <td>3.00</td>\n",
       "      <td>1438670</td>\n",
       "    </tr>\n",
       "    <tr>\n",
       "      <th>4</th>\n",
       "      <td>No Team</td>\n",
       "      <td>138202</td>\n",
       "      <td>3.04</td>\n",
       "      <td>741924</td>\n",
       "    </tr>\n",
       "  </tbody>\n",
       "</table>\n",
       "</div>"
      ],
      "text/plain": [
       "               Team  Team Points  Kart Racing Rank Num  \\\n",
       "0      Dino Buddies       274062                  3.00   \n",
       "1        Green Caps       283310                  3.01   \n",
       "2        Koopa Clan       282558                  2.99   \n",
       "3  Mushroom Royalty       284478                  3.00   \n",
       "4           No Team       138202                  3.04   \n",
       "\n",
       "   Coins Spent in Toad Town  \n",
       "0                   1363819  \n",
       "1                   1411585  \n",
       "2                   1375545  \n",
       "3                   1438670  \n",
       "4                    741924  "
      ]
     },
     "execution_count": 4,
     "metadata": {},
     "output_type": "execute_result"
    }
   ],
   "source": [
    "# 1. Team Performance: Aggregate team points, average rank, and total coins spent per team\n",
    "\n",
    "# Map letter grades to numbers for mean calculation\n",
    "rank_map = {'S': 5, 'A': 4, 'B': 3, 'C': 2, 'D': 1}\n",
    "df['Kart Racing Rank Num'] = df['Kart Racing Rank'].map(rank_map)\n",
    "\n",
    "# Group by Team and aggregate the required metrics\n",
    "team_summary = df.groupby('Team').agg({\n",
    "    'Team Points': 'sum',\n",
    "    'Kart Racing Rank Num': 'mean',\n",
    "    'Coins Spent in Toad Town': 'sum'\n",
    "}).reset_index()\n",
    "\n",
    "# Round the mean Kart Racing Rank Num to 2 decimal places\n",
    "team_summary['Kart Racing Rank Num'] = team_summary['Kart Racing Rank Num'].round(2)\n",
    "\n",
    "team_summary.head()"
   ]
  },
  {
   "cell_type": "code",
   "execution_count": 30,
   "id": "8fd21f81",
   "metadata": {},
   "outputs": [],
   "source": [
    "team_summary.to_csv('1.team_performance.csv', index=False)"
   ]
  },
  {
   "cell_type": "code",
   "execution_count": 27,
   "id": "56a278f2",
   "metadata": {},
   "outputs": [],
   "source": [
    "# Save team_summary to parquet\n",
    "team_summary.to_parquet('../Medallion Architecture/gold/gold_team_summary.parquet', index=False)"
   ]
  },
  {
   "cell_type": "markdown",
   "id": "aad01bc1",
   "metadata": {},
   "source": [
    "### 2. Player Performance Ranking"
   ]
  },
  {
   "cell_type": "code",
   "execution_count": 28,
   "id": "267da956",
   "metadata": {},
   "outputs": [
    {
     "data": {
      "application/vnd.microsoft.datawrangler.viewer.v0+json": {
       "columns": [
        {
         "name": "Player Name",
         "rawType": "string",
         "type": "string"
        },
        {
         "name": "Team Points",
         "rawType": "int32",
         "type": "integer"
        }
       ],
       "ref": "18c54547-edf9-418c-8c18-be7fae0aec76",
       "rows": [
        [
         "Unknown Player",
         "454698"
        ],
        [
         "Luigi",
         "172753"
        ],
        [
         "Bowser Jr.",
         "170904"
        ],
        [
         "Bowser",
         "165782"
        ],
        [
         "Waluigi",
         "165295"
        ],
        [
         "Mario",
         "163519"
        ],
        [
         "Daisy",
         "163110"
        ],
        [
         "Rosalina",
         "162711"
        ],
        [
         "Toad",
         "161178"
        ],
        [
         "Peach",
         "159581"
        ],
        [
         "Wario",
         "157165"
        ],
        [
         "Yoshi",
         "153025"
        ],
        [
         "Toadette",
         "150295"
        ]
       ],
       "shape": {
        "columns": 1,
        "rows": 13
       }
      },
      "text/plain": [
       "Player Name\n",
       "Unknown Player    454698\n",
       "Luigi             172753\n",
       "Bowser Jr.        170904\n",
       "Bowser            165782\n",
       "Waluigi           165295\n",
       "Mario             163519\n",
       "Daisy             163110\n",
       "Rosalina          162711\n",
       "Toad              161178\n",
       "Peach             159581\n",
       "Wario             157165\n",
       "Yoshi             153025\n",
       "Toadette          150295\n",
       "Name: Team Points, dtype: int32"
      ]
     },
     "execution_count": 28,
     "metadata": {},
     "output_type": "execute_result"
    }
   ],
   "source": [
    "# 2. Player Performance Ranking\n",
    "player_performance = df.groupby('Player Name')['Team Points'].sum().sort_values(ascending=False)\n",
    "player_performance"
   ]
  },
  {
   "cell_type": "code",
   "execution_count": 33,
   "id": "b42e48e8",
   "metadata": {},
   "outputs": [],
   "source": [
    "player_performance.to_csv('2.player_performance.csv', index=True)"
   ]
  },
  {
   "cell_type": "code",
   "execution_count": 7,
   "id": "9ebb8c47",
   "metadata": {},
   "outputs": [],
   "source": [
    "# Save player_performance to parquet\n",
    "player_performance.to_frame().to_parquet('../Medallion Architecture/gold/gold_player_performance.parquet')"
   ]
  },
  {
   "cell_type": "markdown",
   "id": "a57ea728",
   "metadata": {},
   "source": [
    "### 3. Power-Up Usage: Count and average of power-ups used per player"
   ]
  },
  {
   "cell_type": "code",
   "execution_count": 8,
   "id": "c2820e53",
   "metadata": {},
   "outputs": [
    {
     "data": {
      "application/vnd.microsoft.datawrangler.viewer.v0+json": {
       "columns": [
        {
         "name": "index",
         "rawType": "int64",
         "type": "integer"
        },
        {
         "name": "Player Name",
         "rawType": "string",
         "type": "string"
        },
        {
         "name": "sum",
         "rawType": "int32",
         "type": "integer"
        },
        {
         "name": "mean",
         "rawType": "float64",
         "type": "float"
        }
       ],
       "ref": "b61f7f95-4780-4915-929b-ea0e89dcd451",
       "rows": [
        [
         "0",
         "Bowser",
         "56889",
         "17.41"
        ],
        [
         "1",
         "Bowser Jr.",
         "56800",
         "17.53"
        ],
        [
         "2",
         "Daisy",
         "57556",
         "17.47"
        ],
        [
         "3",
         "Luigi",
         "56875",
         "17.4"
        ],
        [
         "4",
         "Mario",
         "54703",
         "17.2"
        ]
       ],
       "shape": {
        "columns": 3,
        "rows": 5
       }
      },
      "text/html": [
       "<div>\n",
       "<style scoped>\n",
       "    .dataframe tbody tr th:only-of-type {\n",
       "        vertical-align: middle;\n",
       "    }\n",
       "\n",
       "    .dataframe tbody tr th {\n",
       "        vertical-align: top;\n",
       "    }\n",
       "\n",
       "    .dataframe thead th {\n",
       "        text-align: right;\n",
       "    }\n",
       "</style>\n",
       "<table border=\"1\" class=\"dataframe\">\n",
       "  <thead>\n",
       "    <tr style=\"text-align: right;\">\n",
       "      <th></th>\n",
       "      <th>Player Name</th>\n",
       "      <th>sum</th>\n",
       "      <th>mean</th>\n",
       "    </tr>\n",
       "  </thead>\n",
       "  <tbody>\n",
       "    <tr>\n",
       "      <th>0</th>\n",
       "      <td>Bowser</td>\n",
       "      <td>56889</td>\n",
       "      <td>17.41</td>\n",
       "    </tr>\n",
       "    <tr>\n",
       "      <th>1</th>\n",
       "      <td>Bowser Jr.</td>\n",
       "      <td>56800</td>\n",
       "      <td>17.53</td>\n",
       "    </tr>\n",
       "    <tr>\n",
       "      <th>2</th>\n",
       "      <td>Daisy</td>\n",
       "      <td>57556</td>\n",
       "      <td>17.47</td>\n",
       "    </tr>\n",
       "    <tr>\n",
       "      <th>3</th>\n",
       "      <td>Luigi</td>\n",
       "      <td>56875</td>\n",
       "      <td>17.40</td>\n",
       "    </tr>\n",
       "    <tr>\n",
       "      <th>4</th>\n",
       "      <td>Mario</td>\n",
       "      <td>54703</td>\n",
       "      <td>17.20</td>\n",
       "    </tr>\n",
       "  </tbody>\n",
       "</table>\n",
       "</div>"
      ],
      "text/plain": [
       "  Player Name    sum   mean\n",
       "0      Bowser  56889  17.41\n",
       "1  Bowser Jr.  56800  17.53\n",
       "2       Daisy  57556  17.47\n",
       "3       Luigi  56875  17.40\n",
       "4       Mario  54703  17.20"
      ]
     },
     "execution_count": 8,
     "metadata": {},
     "output_type": "execute_result"
    }
   ],
   "source": [
    "# 3. Power-Up Usage: Count and average of power-ups used per player and per team\n",
    "powerup_player = df.groupby('Player Name')['Power-Ups Used'].agg(['sum', 'mean']).reset_index()\n",
    "powerup_player['mean'] = powerup_player['mean'].round(2)\n",
    "\n",
    "powerup_player.head()\n"
   ]
  },
  {
   "cell_type": "code",
   "execution_count": 32,
   "id": "dd573950",
   "metadata": {},
   "outputs": [],
   "source": [
    "powerup_player.to_csv('3.powerup_usage_per_player.csv', index=False)"
   ]
  },
  {
   "cell_type": "code",
   "execution_count": 9,
   "id": "ffc52b2d",
   "metadata": {},
   "outputs": [],
   "source": [
    "powerup_player.to_parquet('../Medallion Architecture/gold/gold_powerup_player.parquet', index=False)"
   ]
  },
  {
   "cell_type": "markdown",
   "id": "83b320fa",
   "metadata": {},
   "source": [
    "### 4. World Difficulty (by lives lost)"
   ]
  },
  {
   "cell_type": "code",
   "execution_count": 10,
   "id": "6e82ad18",
   "metadata": {},
   "outputs": [
    {
     "data": {
      "application/vnd.microsoft.datawrangler.viewer.v0+json": {
       "columns": [
        {
         "name": "World",
         "rawType": "object",
         "type": "string"
        },
        {
         "name": "Lives Lost",
         "rawType": "float64",
         "type": "float"
        }
       ],
       "ref": "47c17ce6-6ed9-476d-b275-e50086b7fa35",
       "rows": [
        [
         "Donut Plains",
         "2.53"
        ],
        [
         "Mushroom Kingdom",
         "2.53"
        ],
        [
         "Toad Town",
         "2.51"
        ],
        [
         "Yoshi's Island",
         "2.5"
        ],
        [
         "Star World",
         "2.5"
        ],
        [
         "Koopa Kingdom",
         "2.48"
        ]
       ],
       "shape": {
        "columns": 1,
        "rows": 6
       }
      },
      "text/plain": [
       "World\n",
       "Donut Plains        2.53\n",
       "Mushroom Kingdom    2.53\n",
       "Toad Town           2.51\n",
       "Yoshi's Island      2.50\n",
       "Star World          2.50\n",
       "Koopa Kingdom       2.48\n",
       "Name: Lives Lost, dtype: float64"
      ]
     },
     "execution_count": 10,
     "metadata": {},
     "output_type": "execute_result"
    }
   ],
   "source": [
    "# 4. World Difficulty (by lives lost)\n",
    "world_difficulty = df.groupby('World')['Lives Lost'].mean().sort_values(ascending=False)\n",
    "world_difficulty\n",
    "world_difficulty = world_difficulty.round(2)\n",
    "world_difficulty"
   ]
  },
  {
   "cell_type": "code",
   "execution_count": 11,
   "id": "6ae0ae79",
   "metadata": {},
   "outputs": [],
   "source": [
    "world_difficulty.to_frame().to_parquet('../Medallion Architecture/gold/gold_world_difficulty.parquet', index=False)"
   ]
  },
  {
   "cell_type": "code",
   "execution_count": 34,
   "id": "b2b51685",
   "metadata": {},
   "outputs": [],
   "source": [
    "world_difficulty.to_csv('4.world_difficulty.csv', index=True)"
   ]
  },
  {
   "cell_type": "markdown",
   "id": "9d9a5032",
   "metadata": {},
   "source": [
    "### 5. Top Player per Team by Team Points"
   ]
  },
  {
   "cell_type": "code",
   "execution_count": 12,
   "id": "32f14073",
   "metadata": {},
   "outputs": [
    {
     "data": {
      "application/vnd.microsoft.datawrangler.viewer.v0+json": {
       "columns": [
        {
         "name": "index",
         "rawType": "int64",
         "type": "integer"
        },
        {
         "name": "Team",
         "rawType": "object",
         "type": "string"
        },
        {
         "name": "Player Name",
         "rawType": "string",
         "type": "string"
        },
        {
         "name": "Team Points",
         "rawType": "int32",
         "type": "integer"
        }
       ],
       "ref": "6913616f-e376-4e4a-93f0-e310c7464d75",
       "rows": [
        [
         "0",
         "Dino Buddies",
         "Waluigi",
         "200"
        ],
        [
         "1",
         "Green Caps",
         "Mario",
         "200"
        ],
        [
         "2",
         "Koopa Clan",
         "Bowser Jr.",
         "200"
        ],
        [
         "3",
         "Mushroom Royalty",
         "Bowser",
         "200"
        ],
        [
         "4",
         "No Team",
         "Waluigi",
         "200"
        ],
        [
         "5",
         "Red Caps",
         "Waluigi",
         "200"
        ],
        [
         "6",
         "Sarasaland Stars",
         "Waluigi",
         "200"
        ],
        [
         "7",
         "Toad Brigade",
         "Peach",
         "200"
        ],
        [
         "8",
         "Tricksters",
         "Waluigi",
         "200"
        ]
       ],
       "shape": {
        "columns": 3,
        "rows": 9
       }
      },
      "text/html": [
       "<div>\n",
       "<style scoped>\n",
       "    .dataframe tbody tr th:only-of-type {\n",
       "        vertical-align: middle;\n",
       "    }\n",
       "\n",
       "    .dataframe tbody tr th {\n",
       "        vertical-align: top;\n",
       "    }\n",
       "\n",
       "    .dataframe thead th {\n",
       "        text-align: right;\n",
       "    }\n",
       "</style>\n",
       "<table border=\"1\" class=\"dataframe\">\n",
       "  <thead>\n",
       "    <tr style=\"text-align: right;\">\n",
       "      <th></th>\n",
       "      <th>Team</th>\n",
       "      <th>Player Name</th>\n",
       "      <th>Team Points</th>\n",
       "    </tr>\n",
       "  </thead>\n",
       "  <tbody>\n",
       "    <tr>\n",
       "      <th>0</th>\n",
       "      <td>Dino Buddies</td>\n",
       "      <td>Waluigi</td>\n",
       "      <td>200</td>\n",
       "    </tr>\n",
       "    <tr>\n",
       "      <th>1</th>\n",
       "      <td>Green Caps</td>\n",
       "      <td>Mario</td>\n",
       "      <td>200</td>\n",
       "    </tr>\n",
       "    <tr>\n",
       "      <th>2</th>\n",
       "      <td>Koopa Clan</td>\n",
       "      <td>Bowser Jr.</td>\n",
       "      <td>200</td>\n",
       "    </tr>\n",
       "    <tr>\n",
       "      <th>3</th>\n",
       "      <td>Mushroom Royalty</td>\n",
       "      <td>Bowser</td>\n",
       "      <td>200</td>\n",
       "    </tr>\n",
       "    <tr>\n",
       "      <th>4</th>\n",
       "      <td>No Team</td>\n",
       "      <td>Waluigi</td>\n",
       "      <td>200</td>\n",
       "    </tr>\n",
       "    <tr>\n",
       "      <th>5</th>\n",
       "      <td>Red Caps</td>\n",
       "      <td>Waluigi</td>\n",
       "      <td>200</td>\n",
       "    </tr>\n",
       "    <tr>\n",
       "      <th>6</th>\n",
       "      <td>Sarasaland Stars</td>\n",
       "      <td>Waluigi</td>\n",
       "      <td>200</td>\n",
       "    </tr>\n",
       "    <tr>\n",
       "      <th>7</th>\n",
       "      <td>Toad Brigade</td>\n",
       "      <td>Peach</td>\n",
       "      <td>200</td>\n",
       "    </tr>\n",
       "    <tr>\n",
       "      <th>8</th>\n",
       "      <td>Tricksters</td>\n",
       "      <td>Waluigi</td>\n",
       "      <td>200</td>\n",
       "    </tr>\n",
       "  </tbody>\n",
       "</table>\n",
       "</div>"
      ],
      "text/plain": [
       "               Team Player Name  Team Points\n",
       "0      Dino Buddies     Waluigi          200\n",
       "1        Green Caps       Mario          200\n",
       "2        Koopa Clan  Bowser Jr.          200\n",
       "3  Mushroom Royalty      Bowser          200\n",
       "4           No Team     Waluigi          200\n",
       "5          Red Caps     Waluigi          200\n",
       "6  Sarasaland Stars     Waluigi          200\n",
       "7      Toad Brigade       Peach          200\n",
       "8        Tricksters     Waluigi          200"
      ]
     },
     "execution_count": 12,
     "metadata": {},
     "output_type": "execute_result"
    }
   ],
   "source": [
    "# 11. Top Player per Team by Team Points\n",
    "top_player_per_team = df.loc[df.groupby('Team')['Team Points'].idxmax()][['Team', 'Player Name', 'Team Points']].reset_index(drop=True)\n",
    "top_player_per_team\n"
   ]
  },
  {
   "cell_type": "code",
   "execution_count": 13,
   "id": "61aa5c47",
   "metadata": {},
   "outputs": [],
   "source": [
    "top_player_per_team.to_parquet('../Medallion Architecture/gold/gold_top_player_per_team.parquet', index=False)"
   ]
  },
  {
   "cell_type": "code",
   "execution_count": 37,
   "id": "a798cc34",
   "metadata": {},
   "outputs": [],
   "source": [
    "top_player_per_team.to_csv('5.top_player_per_team.csv', index=False)"
   ]
  },
  {
   "cell_type": "markdown",
   "id": "51389391",
   "metadata": {},
   "source": [
    "### 6. Vehicle Type Popularity: Count of each vehicle type used"
   ]
  },
  {
   "cell_type": "code",
   "execution_count": 14,
   "id": "7206d9ad",
   "metadata": {},
   "outputs": [
    {
     "data": {
      "application/vnd.microsoft.datawrangler.viewer.v0+json": {
       "columns": [
        {
         "name": "index",
         "rawType": "int64",
         "type": "integer"
        },
        {
         "name": "Vehicle Type",
         "rawType": "object",
         "type": "string"
        },
        {
         "name": "Count",
         "rawType": "int64",
         "type": "integer"
        }
       ],
       "ref": "e23e873e-9995-46fc-9ea9-b7a997c699a5",
       "rows": [
        [
         "0",
         "Scooter",
         "6916"
        ],
        [
         "1",
         "Standard Kart",
         "6914"
        ],
        [
         "2",
         "Pipe Frame",
         "6868"
        ],
        [
         "3",
         "Biddybuggy",
         "6863"
        ],
        [
         "4",
         "Mach 8",
         "6839"
        ],
        [
         "5",
         "Comet Bike",
         "6828"
        ],
        [
         "6",
         "Circuit Special",
         "6772"
        ]
       ],
       "shape": {
        "columns": 2,
        "rows": 7
       }
      },
      "text/html": [
       "<div>\n",
       "<style scoped>\n",
       "    .dataframe tbody tr th:only-of-type {\n",
       "        vertical-align: middle;\n",
       "    }\n",
       "\n",
       "    .dataframe tbody tr th {\n",
       "        vertical-align: top;\n",
       "    }\n",
       "\n",
       "    .dataframe thead th {\n",
       "        text-align: right;\n",
       "    }\n",
       "</style>\n",
       "<table border=\"1\" class=\"dataframe\">\n",
       "  <thead>\n",
       "    <tr style=\"text-align: right;\">\n",
       "      <th></th>\n",
       "      <th>Vehicle Type</th>\n",
       "      <th>Count</th>\n",
       "    </tr>\n",
       "  </thead>\n",
       "  <tbody>\n",
       "    <tr>\n",
       "      <th>0</th>\n",
       "      <td>Scooter</td>\n",
       "      <td>6916</td>\n",
       "    </tr>\n",
       "    <tr>\n",
       "      <th>1</th>\n",
       "      <td>Standard Kart</td>\n",
       "      <td>6914</td>\n",
       "    </tr>\n",
       "    <tr>\n",
       "      <th>2</th>\n",
       "      <td>Pipe Frame</td>\n",
       "      <td>6868</td>\n",
       "    </tr>\n",
       "    <tr>\n",
       "      <th>3</th>\n",
       "      <td>Biddybuggy</td>\n",
       "      <td>6863</td>\n",
       "    </tr>\n",
       "    <tr>\n",
       "      <th>4</th>\n",
       "      <td>Mach 8</td>\n",
       "      <td>6839</td>\n",
       "    </tr>\n",
       "    <tr>\n",
       "      <th>5</th>\n",
       "      <td>Comet Bike</td>\n",
       "      <td>6828</td>\n",
       "    </tr>\n",
       "    <tr>\n",
       "      <th>6</th>\n",
       "      <td>Circuit Special</td>\n",
       "      <td>6772</td>\n",
       "    </tr>\n",
       "  </tbody>\n",
       "</table>\n",
       "</div>"
      ],
      "text/plain": [
       "      Vehicle Type  Count\n",
       "0          Scooter   6916\n",
       "1    Standard Kart   6914\n",
       "2       Pipe Frame   6868\n",
       "3       Biddybuggy   6863\n",
       "4           Mach 8   6839\n",
       "5       Comet Bike   6828\n",
       "6  Circuit Special   6772"
      ]
     },
     "execution_count": 14,
     "metadata": {},
     "output_type": "execute_result"
    }
   ],
   "source": [
    "# 4. Vehicle Type Popularity: Count of each vehicle type used\n",
    "vehicle_counts = df['Vehicle Type'].value_counts().reset_index()\n",
    "vehicle_counts.columns = ['Vehicle Type', 'Count']\n",
    "vehicle_counts"
   ]
  },
  {
   "cell_type": "code",
   "execution_count": 15,
   "id": "0caba856",
   "metadata": {},
   "outputs": [],
   "source": [
    "# Save vehicle_counts to parquet\n",
    "vehicle_counts.to_parquet('../Medallion Architecture/gold/gold_vehicle_counts.parquet', index=False)"
   ]
  },
  {
   "cell_type": "code",
   "execution_count": 36,
   "id": "62a1eff5",
   "metadata": {},
   "outputs": [],
   "source": [
    "vehicle_counts.to_csv('6.vehicle_type_popularity.csv', index=False)"
   ]
  },
  {
   "cell_type": "markdown",
   "id": "ee0a1b57",
   "metadata": {},
   "source": [
    "### 7. High Risk Players (most lives lost)"
   ]
  },
  {
   "cell_type": "code",
   "execution_count": 16,
   "id": "3c7ffc08",
   "metadata": {},
   "outputs": [
    {
     "data": {
      "application/vnd.microsoft.datawrangler.viewer.v0+json": {
       "columns": [
        {
         "name": "Player Name",
         "rawType": "string",
         "type": "string"
        },
        {
         "name": "Lives Lost",
         "rawType": "int32",
         "type": "integer"
        }
       ],
       "ref": "5c2b0c5b-fbcd-4f10-86d4-215e9f86ba01",
       "rows": [
        [
         "Unknown Player",
         "22667"
        ],
        [
         "Yoshi",
         "8367"
        ],
        [
         "Waluigi",
         "8349"
        ],
        [
         "Toadette",
         "8338"
        ],
        [
         "Daisy",
         "8214"
        ],
        [
         "Peach",
         "8166"
        ],
        [
         "Bowser Jr.",
         "8160"
        ],
        [
         "Luigi",
         "8103"
        ],
        [
         "Rosalina",
         "8092"
        ],
        [
         "Toad",
         "8085"
        ],
        [
         "Bowser",
         "8072"
        ],
        [
         "Mario",
         "8009"
        ],
        [
         "Wario",
         "7754"
        ]
       ],
       "shape": {
        "columns": 1,
        "rows": 13
       }
      },
      "text/plain": [
       "Player Name\n",
       "Unknown Player    22667\n",
       "Yoshi              8367\n",
       "Waluigi            8349\n",
       "Toadette           8338\n",
       "Daisy              8214\n",
       "Peach              8166\n",
       "Bowser Jr.         8160\n",
       "Luigi              8103\n",
       "Rosalina           8092\n",
       "Toad               8085\n",
       "Bowser             8072\n",
       "Mario              8009\n",
       "Wario              7754\n",
       "Name: Lives Lost, dtype: int32"
      ]
     },
     "execution_count": 16,
     "metadata": {},
     "output_type": "execute_result"
    }
   ],
   "source": [
    "# 7. High Risk Players (most lives lost)\n",
    "risk_assessment = df.groupby('Player Name')['Lives Lost'].sum().sort_values(ascending=False)\n",
    "risk_assessment\n"
   ]
  },
  {
   "cell_type": "code",
   "execution_count": 38,
   "id": "9a4bd8ff",
   "metadata": {},
   "outputs": [],
   "source": [
    "risk_assessment.to_frame().to_csv('7.risk_assessment.csv', index=True)"
   ]
  },
  {
   "cell_type": "code",
   "execution_count": 17,
   "id": "f7b0f204",
   "metadata": {},
   "outputs": [],
   "source": [
    "risk_assessment.to_frame().to_parquet('../Medallion Architecture/gold/gold_risk_assessment.parquet')"
   ]
  },
  {
   "cell_type": "markdown",
   "id": "fcc04996",
   "metadata": {},
   "source": [
    "### 8. World/Level Completion: Average and total levels completed per world"
   ]
  },
  {
   "cell_type": "code",
   "execution_count": 18,
   "id": "76b99dd3",
   "metadata": {},
   "outputs": [
    {
     "data": {
      "application/vnd.microsoft.datawrangler.viewer.v0+json": {
       "columns": [
        {
         "name": "index",
         "rawType": "int64",
         "type": "integer"
        },
        {
         "name": "World",
         "rawType": "object",
         "type": "string"
        },
        {
         "name": "sum",
         "rawType": "int32",
         "type": "integer"
        },
        {
         "name": "mean",
         "rawType": "float64",
         "type": "float"
        }
       ],
       "ref": "64a182dd-067d-4a07-8f8c-63f0a4a60b86",
       "rows": [
        [
         "0",
         "Donut Plains",
         "507269",
         "62.73"
        ],
        [
         "1",
         "Koopa Kingdom",
         "503194",
         "62.69"
        ],
        [
         "2",
         "Mushroom Kingdom",
         "491277",
         "61.9"
        ],
        [
         "3",
         "Star World",
         "496809",
         "62.25"
        ],
        [
         "4",
         "Toad Town",
         "501699",
         "62.5"
        ],
        [
         "5",
         "Yoshi's Island",
         "497014",
         "62.57"
        ]
       ],
       "shape": {
        "columns": 3,
        "rows": 6
       }
      },
      "text/html": [
       "<div>\n",
       "<style scoped>\n",
       "    .dataframe tbody tr th:only-of-type {\n",
       "        vertical-align: middle;\n",
       "    }\n",
       "\n",
       "    .dataframe tbody tr th {\n",
       "        vertical-align: top;\n",
       "    }\n",
       "\n",
       "    .dataframe thead th {\n",
       "        text-align: right;\n",
       "    }\n",
       "</style>\n",
       "<table border=\"1\" class=\"dataframe\">\n",
       "  <thead>\n",
       "    <tr style=\"text-align: right;\">\n",
       "      <th></th>\n",
       "      <th>World</th>\n",
       "      <th>sum</th>\n",
       "      <th>mean</th>\n",
       "    </tr>\n",
       "  </thead>\n",
       "  <tbody>\n",
       "    <tr>\n",
       "      <th>0</th>\n",
       "      <td>Donut Plains</td>\n",
       "      <td>507269</td>\n",
       "      <td>62.73</td>\n",
       "    </tr>\n",
       "    <tr>\n",
       "      <th>1</th>\n",
       "      <td>Koopa Kingdom</td>\n",
       "      <td>503194</td>\n",
       "      <td>62.69</td>\n",
       "    </tr>\n",
       "    <tr>\n",
       "      <th>2</th>\n",
       "      <td>Mushroom Kingdom</td>\n",
       "      <td>491277</td>\n",
       "      <td>61.90</td>\n",
       "    </tr>\n",
       "    <tr>\n",
       "      <th>3</th>\n",
       "      <td>Star World</td>\n",
       "      <td>496809</td>\n",
       "      <td>62.25</td>\n",
       "    </tr>\n",
       "    <tr>\n",
       "      <th>4</th>\n",
       "      <td>Toad Town</td>\n",
       "      <td>501699</td>\n",
       "      <td>62.50</td>\n",
       "    </tr>\n",
       "    <tr>\n",
       "      <th>5</th>\n",
       "      <td>Yoshi's Island</td>\n",
       "      <td>497014</td>\n",
       "      <td>62.57</td>\n",
       "    </tr>\n",
       "  </tbody>\n",
       "</table>\n",
       "</div>"
      ],
      "text/plain": [
       "              World     sum   mean\n",
       "0      Donut Plains  507269  62.73\n",
       "1     Koopa Kingdom  503194  62.69\n",
       "2  Mushroom Kingdom  491277  61.90\n",
       "3        Star World  496809  62.25\n",
       "4         Toad Town  501699  62.50\n",
       "5    Yoshi's Island  497014  62.57"
      ]
     },
     "execution_count": 18,
     "metadata": {},
     "output_type": "execute_result"
    }
   ],
   "source": [
    "# 5. World/Level Completion: Average and total levels completed per world\n",
    "world_completion = df.groupby('World')['Levels Completed'].agg(['sum', 'mean']).reset_index()\n",
    "world_completion['mean'] = world_completion['mean'].round(2)\n",
    "world_completion"
   ]
  },
  {
   "cell_type": "code",
   "execution_count": 39,
   "id": "e8bc2bf7",
   "metadata": {},
   "outputs": [],
   "source": [
    "world_completion.to_csv('8.world_completion.csv', index=False)"
   ]
  },
  {
   "cell_type": "code",
   "execution_count": 19,
   "id": "5cbc5b0c",
   "metadata": {},
   "outputs": [],
   "source": [
    "world_completion.to_parquet('../Medallion Architecture/gold/gold_world_completion.parquet', index=False)"
   ]
  },
  {
   "cell_type": "markdown",
   "id": "337a311b",
   "metadata": {},
   "source": [
    "### 9. Error/Hit Analysis: Total and average times hit by enemies per team"
   ]
  },
  {
   "cell_type": "code",
   "execution_count": 20,
   "id": "0d42a6dd",
   "metadata": {},
   "outputs": [
    {
     "data": {
      "application/vnd.microsoft.datawrangler.viewer.v0+json": {
       "columns": [
        {
         "name": "index",
         "rawType": "int64",
         "type": "integer"
        },
        {
         "name": "Team",
         "rawType": "object",
         "type": "string"
        },
        {
         "name": "sum",
         "rawType": "int32",
         "type": "integer"
        },
        {
         "name": "mean",
         "rawType": "float64",
         "type": "float"
        }
       ],
       "ref": "1530709b-1921-48bc-a560-70759fbac600",
       "rows": [
        [
         "0",
         "Dino Buddies",
         "27417",
         "4.98"
        ],
        [
         "1",
         "Green Caps",
         "27943",
         "4.97"
        ],
        [
         "2",
         "Koopa Clan",
         "28023",
         "5.04"
        ],
        [
         "3",
         "Mushroom Royalty",
         "28368",
         "4.97"
        ],
        [
         "4",
         "No Team",
         "14965",
         "5.06"
        ]
       ],
       "shape": {
        "columns": 3,
        "rows": 5
       }
      },
      "text/html": [
       "<div>\n",
       "<style scoped>\n",
       "    .dataframe tbody tr th:only-of-type {\n",
       "        vertical-align: middle;\n",
       "    }\n",
       "\n",
       "    .dataframe tbody tr th {\n",
       "        vertical-align: top;\n",
       "    }\n",
       "\n",
       "    .dataframe thead th {\n",
       "        text-align: right;\n",
       "    }\n",
       "</style>\n",
       "<table border=\"1\" class=\"dataframe\">\n",
       "  <thead>\n",
       "    <tr style=\"text-align: right;\">\n",
       "      <th></th>\n",
       "      <th>Team</th>\n",
       "      <th>sum</th>\n",
       "      <th>mean</th>\n",
       "    </tr>\n",
       "  </thead>\n",
       "  <tbody>\n",
       "    <tr>\n",
       "      <th>0</th>\n",
       "      <td>Dino Buddies</td>\n",
       "      <td>27417</td>\n",
       "      <td>4.98</td>\n",
       "    </tr>\n",
       "    <tr>\n",
       "      <th>1</th>\n",
       "      <td>Green Caps</td>\n",
       "      <td>27943</td>\n",
       "      <td>4.97</td>\n",
       "    </tr>\n",
       "    <tr>\n",
       "      <th>2</th>\n",
       "      <td>Koopa Clan</td>\n",
       "      <td>28023</td>\n",
       "      <td>5.04</td>\n",
       "    </tr>\n",
       "    <tr>\n",
       "      <th>3</th>\n",
       "      <td>Mushroom Royalty</td>\n",
       "      <td>28368</td>\n",
       "      <td>4.97</td>\n",
       "    </tr>\n",
       "    <tr>\n",
       "      <th>4</th>\n",
       "      <td>No Team</td>\n",
       "      <td>14965</td>\n",
       "      <td>5.06</td>\n",
       "    </tr>\n",
       "  </tbody>\n",
       "</table>\n",
       "</div>"
      ],
      "text/plain": [
       "               Team    sum  mean\n",
       "0      Dino Buddies  27417  4.98\n",
       "1        Green Caps  27943  4.97\n",
       "2        Koopa Clan  28023  5.04\n",
       "3  Mushroom Royalty  28368  4.97\n",
       "4           No Team  14965  5.06"
      ]
     },
     "execution_count": 20,
     "metadata": {},
     "output_type": "execute_result"
    }
   ],
   "source": [
    "hits_team = df.groupby('Team')['Times Hit by Enemies'].agg(['sum', 'mean']).reset_index()\n",
    "hits_team['mean'] = hits_team['mean'].round(2)\n",
    "hits_team.head()"
   ]
  },
  {
   "cell_type": "code",
   "execution_count": 21,
   "id": "76f40aca",
   "metadata": {},
   "outputs": [],
   "source": [
    "hits_team.to_parquet('../Medallion Architecture/gold/gold_hits_team.parquet', index=False)"
   ]
  },
  {
   "cell_type": "code",
   "execution_count": 40,
   "id": "ed2011da",
   "metadata": {},
   "outputs": [],
   "source": [
    "hits_team.to_csv('9.hits_per_team.csv', index=False)"
   ]
  },
  {
   "cell_type": "markdown",
   "id": "d28c3de0",
   "metadata": {},
   "source": [
    "### 10. Spending Analysis by Team"
   ]
  },
  {
   "cell_type": "code",
   "execution_count": 22,
   "id": "7ca45f91",
   "metadata": {},
   "outputs": [
    {
     "data": {
      "application/vnd.microsoft.datawrangler.viewer.v0+json": {
       "columns": [
        {
         "name": "Team",
         "rawType": "object",
         "type": "string"
        },
        {
         "name": "Coins Spent in Toad Town",
         "rawType": "int32",
         "type": "integer"
        }
       ],
       "ref": "d9d79c99-73aa-4041-b9ef-20c0cd708374",
       "rows": [
        [
         "Mushroom Royalty",
         "1438670"
        ],
        [
         "Sarasaland Stars",
         "1426623"
        ],
        [
         "Green Caps",
         "1411585"
        ],
        [
         "Red Caps",
         "1409952"
        ],
        [
         "Toad Brigade",
         "1395065"
        ],
        [
         "Tricksters",
         "1394614"
        ],
        [
         "Koopa Clan",
         "1375545"
        ],
        [
         "Dino Buddies",
         "1363819"
        ],
        [
         "No Team",
         "741924"
        ]
       ],
       "shape": {
        "columns": 1,
        "rows": 9
       }
      },
      "text/plain": [
       "Team\n",
       "Mushroom Royalty    1438670\n",
       "Sarasaland Stars    1426623\n",
       "Green Caps          1411585\n",
       "Red Caps            1409952\n",
       "Toad Brigade        1395065\n",
       "Tricksters          1394614\n",
       "Koopa Clan          1375545\n",
       "Dino Buddies        1363819\n",
       "No Team              741924\n",
       "Name: Coins Spent in Toad Town, dtype: int32"
      ]
     },
     "execution_count": 22,
     "metadata": {},
     "output_type": "execute_result"
    }
   ],
   "source": [
    "# 10. Spending Analysis\n",
    "spending_analysis = df.groupby('Team')['Coins Spent in Toad Town'].sum().sort_values(ascending=False)\n",
    "spending_analysis\n"
   ]
  },
  {
   "cell_type": "code",
   "execution_count": 23,
   "id": "220cd00f",
   "metadata": {},
   "outputs": [],
   "source": [
    "spending_analysis.to_frame().to_parquet('../Medallion Architecture/gold/gold_spending_analysis.parquet', index=False)"
   ]
  },
  {
   "cell_type": "code",
   "execution_count": 41,
   "id": "240a0017",
   "metadata": {},
   "outputs": [],
   "source": [
    "spending_analysis.to_csv('10.spending_analysis.csv', index=True)"
   ]
  }
 ],
 "metadata": {
  "kernelspec": {
   "display_name": ".venv",
   "language": "python",
   "name": "python3"
  },
  "language_info": {
   "codemirror_mode": {
    "name": "ipython",
    "version": 3
   },
   "file_extension": ".py",
   "mimetype": "text/x-python",
   "name": "python",
   "nbconvert_exporter": "python",
   "pygments_lexer": "ipython3",
   "version": "3.12.7"
  }
 },
 "nbformat": 4,
 "nbformat_minor": 5
}
