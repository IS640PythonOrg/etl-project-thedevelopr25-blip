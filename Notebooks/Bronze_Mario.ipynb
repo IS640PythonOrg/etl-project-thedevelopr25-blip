{
 "cells": [
  {
   "cell_type": "markdown",
   "metadata": {},
   "source": [
    "# Bronze Layer 🥉"
   ]
  },
  {
   "cell_type": "markdown",
   "metadata": {},
   "source": [
    "## Imports ⬇️"
   ]
  },
  {
   "cell_type": "code",
   "execution_count": 10,
   "metadata": {},
   "outputs": [],
   "source": [
    "import pandas as pd # Used as our \"Excel tool\" to create a dataframe or tables\n",
    "import datetime\n",
    "import os # used to communicate with our folder file system \n",
    "import numpy as np # used for numerical operations"
   ]
  },
  {
   "cell_type": "markdown",
   "metadata": {},
   "source": [
    "## Set Variables ➡️"
   ]
  },
  {
   "cell_type": "code",
   "execution_count": 11,
   "metadata": {},
   "outputs": [
    {
     "name": "stdout",
     "output_type": "stream",
     "text": [
      "File Path: c:\\Users\\Hans\\OneDrive\\Documents\\CSULB\\TA Job\\IS\\Mario ETL\\To Students\n",
      "Data Location: ../mario_data\n"
     ]
    }
   ],
   "source": [
    "# Get current working directory\n",
    "cwd  = os.getcwd()\n",
    "print(f'File Path: {cwd}')\n",
    "\n",
    "# We assume you have a Transactions folder within the same directory of this notebook\n",
    "folder = '../mario_data'\n",
    "\n",
    "# data_path = cwd + folder\n",
    "data_path = folder\n",
    "print(f'Data Location: {data_path}')\n"
   ]
  },
  {
   "cell_type": "markdown",
   "metadata": {},
   "source": [
    "## Get all folders and files 📂"
   ]
  },
  {
   "cell_type": "code",
   "execution_count": 12,
   "metadata": {},
   "outputs": [
    {
     "name": "stdout",
     "output_type": "stream",
     "text": [
      "mario_data_20250101.csv\n",
      "mario_data_20250201.csv\n",
      "mario_data_20250301.csv\n",
      "mario_data_20250401.jsonl\n",
      "mario_data_20250501.jsonl\n",
      "mario_data_20250601.jsonl\n"
     ]
    }
   ],
   "source": [
    "# Get all Folders and Files as a list\n",
    "folder_files = os.listdir(data_path)\n",
    "for f in folder_files:\n",
    "    print(f)"
   ]
  },
  {
   "cell_type": "markdown",
   "metadata": {},
   "source": [
    "## Take a peek of data 👀"
   ]
  },
  {
   "cell_type": "code",
   "execution_count": 13,
   "metadata": {},
   "outputs": [
    {
     "data": {
      "application/vnd.microsoft.datawrangler.viewer.v0+json": {
       "columns": [
        {
         "name": "index",
         "rawType": "int64",
         "type": "integer"
        },
        {
         "name": "Player Name",
         "rawType": "object",
         "type": "string"
        },
        {
         "name": "Team",
         "rawType": "object",
         "type": "unknown"
        },
        {
         "name": "World",
         "rawType": "object",
         "type": "string"
        },
        {
         "name": "Vehicle Type",
         "rawType": "object",
         "type": "string"
        },
        {
         "name": "Companion",
         "rawType": "object",
         "type": "string"
        },
        {
         "name": "Kart Racing Rank",
         "rawType": "object",
         "type": "string"
        },
        {
         "name": "Platforming Rank",
         "rawType": "object",
         "type": "string"
        },
        {
         "name": "Boss Battle Rank",
         "rawType": "object",
         "type": "string"
        },
        {
         "name": "Power-Ups Used",
         "rawType": "int64",
         "type": "integer"
        },
        {
         "name": "Kart Role",
         "rawType": "object",
         "type": "string"
        },
        {
         "name": "Team Points",
         "rawType": "float64",
         "type": "float"
        },
        {
         "name": "Lives Lost",
         "rawType": "float64",
         "type": "float"
        },
        {
         "name": "Participation in Battle Mode",
         "rawType": "object",
         "type": "string"
        },
        {
         "name": "Mushroom Cup Participation",
         "rawType": "object",
         "type": "string"
        },
        {
         "name": "Power-Ups Owned",
         "rawType": "object",
         "type": "string"
        },
        {
         "name": "Coins Spent in Toad Town",
         "rawType": "int64",
         "type": "integer"
        },
        {
         "name": "Levels Completed",
         "rawType": "int64",
         "type": "integer"
        },
        {
         "name": "Times Hit by Enemies",
         "rawType": "float64",
         "type": "float"
        },
        {
         "name": "Primary Game",
         "rawType": "object",
         "type": "string"
        }
       ],
       "ref": "a3c97ee2-c790-4fce-9ffe-0c76ddfd2231",
       "rows": [
        [
         "0",
         "Yoshi",
         "Toad Brigade",
         "Yoshi's Island",
         "Comet Bike",
         "pOLTERPUP",
         "A",
         "A",
         "A",
         "12",
         "Drifter",
         "-34.0",
         "0.0",
         "Yes",
         "No",
         "1-Up Mushroom",
         "64",
         "26",
         "4.26",
         "         Mario Tennis Aces         "
        ],
        [
         "1",
         "PeachK",
         "GREEN CAPS",
         "Donut Plains",
         "Circuit Special",
         "kOOPA tROOPA",
         "C",
         "A",
         "B",
         "16",
         "Drifter",
         "149.0",
         "4.0",
         "No",
         "No",
         "Red Shell, Super Star",
         "335",
         "40",
         "5.0",
         "Mario Tennis Aces"
        ],
        [
         "2",
         "Waluigi",
         null,
         "Yoshi's Island",
         "Biddybuggy",
         "Goomba",
         "D",
         "A",
         "C",
         "26",
         "Blocker",
         "174.0",
         "1.0",
         "No",
         "Yes",
         "Green Shell",
         "182",
         "57",
         "5.5",
         "Mario Kart 8 Deluxe"
        ],
        [
         "3",
         "Yoshi",
         "Toad Brigade",
         "Star World",
         "Pipe Frame",
         "Goomba",
         "C",
         "D",
         "A",
         "23",
         "Drifter",
         "-1.0",
         "5.0",
         "No",
         "Yes",
         "1-Up Mushroom",
         "333",
         "84",
         "6.0",
         "Super Mario Bros."
        ],
        [
         "4",
         "Bowser Jr.",
         "Koopa Clan",
         "Mushroom Kingdom",
         "Pipe Frame",
         "tOAD",
         "C",
         "C",
         "B",
         "10",
         "Blocker",
         "28.0",
         "2.0",
         "Yes",
         "No",
         "Red Shell, Banana Peel, Fire Flower",
         "461",
         "55",
         "7.0",
         "Super Mario World"
        ]
       ],
       "shape": {
        "columns": 19,
        "rows": 5
       }
      },
      "text/html": [
       "<div>\n",
       "<style scoped>\n",
       "    .dataframe tbody tr th:only-of-type {\n",
       "        vertical-align: middle;\n",
       "    }\n",
       "\n",
       "    .dataframe tbody tr th {\n",
       "        vertical-align: top;\n",
       "    }\n",
       "\n",
       "    .dataframe thead th {\n",
       "        text-align: right;\n",
       "    }\n",
       "</style>\n",
       "<table border=\"1\" class=\"dataframe\">\n",
       "  <thead>\n",
       "    <tr style=\"text-align: right;\">\n",
       "      <th></th>\n",
       "      <th>Player Name</th>\n",
       "      <th>Team</th>\n",
       "      <th>World</th>\n",
       "      <th>Vehicle Type</th>\n",
       "      <th>Companion</th>\n",
       "      <th>Kart Racing Rank</th>\n",
       "      <th>Platforming Rank</th>\n",
       "      <th>Boss Battle Rank</th>\n",
       "      <th>Power-Ups Used</th>\n",
       "      <th>Kart Role</th>\n",
       "      <th>Team Points</th>\n",
       "      <th>Lives Lost</th>\n",
       "      <th>Participation in Battle Mode</th>\n",
       "      <th>Mushroom Cup Participation</th>\n",
       "      <th>Power-Ups Owned</th>\n",
       "      <th>Coins Spent in Toad Town</th>\n",
       "      <th>Levels Completed</th>\n",
       "      <th>Times Hit by Enemies</th>\n",
       "      <th>Primary Game</th>\n",
       "    </tr>\n",
       "  </thead>\n",
       "  <tbody>\n",
       "    <tr>\n",
       "      <th>0</th>\n",
       "      <td>Yoshi</td>\n",
       "      <td>Toad Brigade</td>\n",
       "      <td>Yoshi's Island</td>\n",
       "      <td>Comet Bike</td>\n",
       "      <td>pOLTERPUP</td>\n",
       "      <td>A</td>\n",
       "      <td>A</td>\n",
       "      <td>A</td>\n",
       "      <td>12</td>\n",
       "      <td>Drifter</td>\n",
       "      <td>-34.0</td>\n",
       "      <td>0.0</td>\n",
       "      <td>Yes</td>\n",
       "      <td>No</td>\n",
       "      <td>1-Up Mushroom</td>\n",
       "      <td>64</td>\n",
       "      <td>26</td>\n",
       "      <td>4.26</td>\n",
       "      <td>Mario Tennis Aces</td>\n",
       "    </tr>\n",
       "    <tr>\n",
       "      <th>1</th>\n",
       "      <td>PeachK</td>\n",
       "      <td>GREEN CAPS</td>\n",
       "      <td>Donut Plains</td>\n",
       "      <td>Circuit Special</td>\n",
       "      <td>kOOPA tROOPA</td>\n",
       "      <td>C</td>\n",
       "      <td>A</td>\n",
       "      <td>B</td>\n",
       "      <td>16</td>\n",
       "      <td>Drifter</td>\n",
       "      <td>149.0</td>\n",
       "      <td>4.0</td>\n",
       "      <td>No</td>\n",
       "      <td>No</td>\n",
       "      <td>Red Shell, Super Star</td>\n",
       "      <td>335</td>\n",
       "      <td>40</td>\n",
       "      <td>5.00</td>\n",
       "      <td>Mario Tennis Aces</td>\n",
       "    </tr>\n",
       "    <tr>\n",
       "      <th>2</th>\n",
       "      <td>Waluigi</td>\n",
       "      <td>NaN</td>\n",
       "      <td>Yoshi's Island</td>\n",
       "      <td>Biddybuggy</td>\n",
       "      <td>Goomba</td>\n",
       "      <td>D</td>\n",
       "      <td>A</td>\n",
       "      <td>C</td>\n",
       "      <td>26</td>\n",
       "      <td>Blocker</td>\n",
       "      <td>174.0</td>\n",
       "      <td>1.0</td>\n",
       "      <td>No</td>\n",
       "      <td>Yes</td>\n",
       "      <td>Green Shell</td>\n",
       "      <td>182</td>\n",
       "      <td>57</td>\n",
       "      <td>5.50</td>\n",
       "      <td>Mario Kart 8 Deluxe</td>\n",
       "    </tr>\n",
       "    <tr>\n",
       "      <th>3</th>\n",
       "      <td>Yoshi</td>\n",
       "      <td>Toad Brigade</td>\n",
       "      <td>Star World</td>\n",
       "      <td>Pipe Frame</td>\n",
       "      <td>Goomba</td>\n",
       "      <td>C</td>\n",
       "      <td>D</td>\n",
       "      <td>A</td>\n",
       "      <td>23</td>\n",
       "      <td>Drifter</td>\n",
       "      <td>-1.0</td>\n",
       "      <td>5.0</td>\n",
       "      <td>No</td>\n",
       "      <td>Yes</td>\n",
       "      <td>1-Up Mushroom</td>\n",
       "      <td>333</td>\n",
       "      <td>84</td>\n",
       "      <td>6.00</td>\n",
       "      <td>Super Mario Bros.</td>\n",
       "    </tr>\n",
       "    <tr>\n",
       "      <th>4</th>\n",
       "      <td>Bowser Jr.</td>\n",
       "      <td>Koopa Clan</td>\n",
       "      <td>Mushroom Kingdom</td>\n",
       "      <td>Pipe Frame</td>\n",
       "      <td>tOAD</td>\n",
       "      <td>C</td>\n",
       "      <td>C</td>\n",
       "      <td>B</td>\n",
       "      <td>10</td>\n",
       "      <td>Blocker</td>\n",
       "      <td>28.0</td>\n",
       "      <td>2.0</td>\n",
       "      <td>Yes</td>\n",
       "      <td>No</td>\n",
       "      <td>Red Shell, Banana Peel, Fire Flower</td>\n",
       "      <td>461</td>\n",
       "      <td>55</td>\n",
       "      <td>7.00</td>\n",
       "      <td>Super Mario World</td>\n",
       "    </tr>\n",
       "  </tbody>\n",
       "</table>\n",
       "</div>"
      ],
      "text/plain": [
       "  Player Name          Team             World     Vehicle Type     Companion  \\\n",
       "0       Yoshi  Toad Brigade    Yoshi's Island       Comet Bike     pOLTERPUP   \n",
       "1      PeachK    GREEN CAPS      Donut Plains  Circuit Special  kOOPA tROOPA   \n",
       "2     Waluigi           NaN    Yoshi's Island       Biddybuggy        Goomba   \n",
       "3       Yoshi  Toad Brigade        Star World       Pipe Frame        Goomba   \n",
       "4  Bowser Jr.    Koopa Clan  Mushroom Kingdom       Pipe Frame          tOAD   \n",
       "\n",
       "  Kart Racing Rank Platforming Rank Boss Battle Rank  Power-Ups Used  \\\n",
       "0                A                A                A              12   \n",
       "1                C                A                B              16   \n",
       "2                D                A                C              26   \n",
       "3                C                D                A              23   \n",
       "4                C                C                B              10   \n",
       "\n",
       "  Kart Role  Team Points  Lives Lost Participation in Battle Mode  \\\n",
       "0   Drifter        -34.0         0.0                          Yes   \n",
       "1   Drifter        149.0         4.0                           No   \n",
       "2   Blocker        174.0         1.0                           No   \n",
       "3   Drifter         -1.0         5.0                           No   \n",
       "4   Blocker         28.0         2.0                          Yes   \n",
       "\n",
       "  Mushroom Cup Participation                      Power-Ups Owned  \\\n",
       "0                         No                        1-Up Mushroom   \n",
       "1                         No                Red Shell, Super Star   \n",
       "2                        Yes                          Green Shell   \n",
       "3                        Yes                        1-Up Mushroom   \n",
       "4                         No  Red Shell, Banana Peel, Fire Flower   \n",
       "\n",
       "   Coins Spent in Toad Town  Levels Completed  Times Hit by Enemies  \\\n",
       "0                        64                26                  4.26   \n",
       "1                       335                40                  5.00   \n",
       "2                       182                57                  5.50   \n",
       "3                       333                84                  6.00   \n",
       "4                       461                55                  7.00   \n",
       "\n",
       "                          Primary Game  \n",
       "0           Mario Tennis Aces           \n",
       "1                    Mario Tennis Aces  \n",
       "2                  Mario Kart 8 Deluxe  \n",
       "3                    Super Mario Bros.  \n",
       "4                    Super Mario World  "
      ]
     },
     "execution_count": 13,
     "metadata": {},
     "output_type": "execute_result"
    }
   ],
   "source": [
    "# Create dataframe with pandas\n",
    "# df_peek = pd.read_csv(data_path + '/Pokemon_Transactions_20240601.csv')\n",
    "df_peek = pd.read_csv(data_path + f'/{folder_files[0]}')\n",
    "# Read first 5 rows\n",
    "df_peek.head()"
   ]
  },
  {
   "cell_type": "markdown",
   "metadata": {},
   "source": [
    "## Combine all csvs 🗃️"
   ]
  },
  {
   "cell_type": "code",
   "execution_count": 14,
   "metadata": {},
   "outputs": [
    {
     "name": "stdout",
     "output_type": "stream",
     "text": [
      "mario_data_20250101.csv\n",
      "mario_data_20250201.csv\n",
      "mario_data_20250301.csv\n",
      "mario_data_20250401.jsonl\n",
      "mario_data_20250501.jsonl\n",
      "mario_data_20250601.jsonl\n",
      "Completed Dataframe Concatenation\n",
      "Completed Dataframe Concatenation\n"
     ]
    }
   ],
   "source": [
    "# Create empty variable to add all data frames into a list\n",
    "df_list = [] # adding multiple df to list is the most efficient way to combine/append! 🤯\n",
    "\n",
    "for file in os.listdir(data_path):\n",
    "    print(file)\n",
    "    if file.endswith('.jsonl'):\n",
    "        json_path = os.path.join(data_path, file)\n",
    "        temp_df = pd.read_json(json_path)\n",
    "    elif file.endswith('.csv'):\n",
    "        csv_path = os.path.join(data_path, file)\n",
    "        temp_df = pd.read_csv(csv_path)\n",
    "\n",
    "    df_list.append(temp_df)\n",
    "\n",
    "df = pd.concat(df_list)\n",
    "\n",
    "# Concatenate all files once iteration is complete\n",
    "# We don't want to start from 0 as an index for each file. The combinations should have its own index for the rows\n",
    "df = pd.concat(df_list, ignore_index=True) \n",
    "print('Completed Dataframe Concatenation')"
   ]
  },
  {
   "cell_type": "code",
   "execution_count": 15,
   "metadata": {},
   "outputs": [
    {
     "name": "stdout",
     "output_type": "stream",
     "text": [
      "<class 'pandas.core.frame.DataFrame'>\n",
      "RangeIndex: 48000 entries, 0 to 47999\n",
      "Data columns (total 19 columns):\n",
      " #   Column                        Non-Null Count  Dtype  \n",
      "---  ------                        --------------  -----  \n",
      " 0   Player Name                   38960 non-null  object \n",
      " 1   Team                          45040 non-null  object \n",
      " 2   World                         48000 non-null  object \n",
      " 3   Vehicle Type                  48000 non-null  object \n",
      " 4   Companion                     48000 non-null  object \n",
      " 5   Kart Racing Rank              38720 non-null  object \n",
      " 6   Platforming Rank              48000 non-null  object \n",
      " 7   Boss Battle Rank              48000 non-null  object \n",
      " 8   Power-Ups Used                48000 non-null  int64  \n",
      " 9   Kart Role                     48000 non-null  object \n",
      " 10  Team Points                   48000 non-null  float64\n",
      " 11  Lives Lost                    48000 non-null  float64\n",
      " 12  Participation in Battle Mode  48000 non-null  object \n",
      " 13  Mushroom Cup Participation    35600 non-null  object \n",
      " 14  Power-Ups Owned               48000 non-null  object \n",
      " 15  Coins Spent in Toad Town      48000 non-null  int64  \n",
      " 16  Levels Completed              48000 non-null  int64  \n",
      " 17  Times Hit by Enemies          48000 non-null  float64\n",
      " 18  Primary Game                  48000 non-null  object \n",
      "dtypes: float64(3), int64(3), object(13)\n",
      "memory usage: 7.0+ MB\n"
     ]
    }
   ],
   "source": [
    "df.info()"
   ]
  },
  {
   "cell_type": "markdown",
   "metadata": {},
   "source": [
    "## Save Bronze Layer ⬇️"
   ]
  },
  {
   "cell_type": "code",
   "execution_count": 16,
   "metadata": {},
   "outputs": [],
   "source": [
    "df.to_parquet('../Medallion Architecture/bronze/bronze_transactions.parquet', index=False)"
   ]
  },
  {
   "cell_type": "code",
   "execution_count": 17,
   "metadata": {},
   "outputs": [
    {
     "name": "stdout",
     "output_type": "stream",
     "text": [
      "--- Source File Metrics ---\n",
      "File: mario_data_20250101.csv\n",
      "{'rows': 8000, 'columns': 19, 'unique_counts': {'Player Name': 315, 'Team': 16, 'World': 99, 'Vehicle Type': 70, 'Companion': 14, 'Kart Racing Rank': 5, 'Platforming Rank': 5, 'Boss Battle Rank': 5, 'Kart Role': 344, 'Participation in Battle Mode': 2, 'Mushroom Cup Participation': 2, 'Power-Ups Owned': 259, 'Primary Game': 70}, 'sums': {'Power-Ups Used': np.int64(139165), 'Team Points': np.float64(397857.62790900003), 'Lives Lost': np.float64(20591.496549000003), 'Coins Spent in Toad Town': np.int64(1990255), 'Levels Completed': np.int64(500313), 'Times Hit by Enemies': np.float64(40307.642886)}}\n",
      "\n",
      "File: mario_data_20250201.csv\n",
      "{'rows': 8000, 'columns': 19, 'unique_counts': {'Player Name': 83, 'Team': 16, 'World': 75, 'Vehicle Type': 70, 'Companion': 14, 'Kart Racing Rank': 5, 'Platforming Rank': 5, 'Boss Battle Rank': 5, 'Kart Role': 863, 'Participation in Battle Mode': 2, 'Mushroom Cup Participation': 2, 'Power-Ups Owned': 259, 'Primary Game': 7}, 'sums': {'Power-Ups Used': np.int64(141074), 'Team Points': np.float64(399068.48706), 'Lives Lost': np.float64(20567.404423), 'Coins Spent in Toad Town': np.int64(2008324), 'Levels Completed': np.int64(499578), 'Times Hit by Enemies': np.float64(40592.72175)}}\n",
      "\n",
      "File: mario_data_20250301.csv\n",
      "{'rows': 8000, 'columns': 19, 'unique_counts': {'Player Name': 223, 'Team': 16, 'World': 119, 'Vehicle Type': 70, 'Companion': 14, 'Kart Racing Rank': 5, 'Platforming Rank': 5, 'Boss Battle Rank': 5, 'Kart Role': 699, 'Participation in Battle Mode': 2, 'Mushroom Cup Participation': 2, 'Power-Ups Owned': 259, 'Primary Game': 70}, 'sums': {'Power-Ups Used': np.int64(139317), 'Team Points': np.float64(393319.66313), 'Lives Lost': np.float64(20986.475209), 'Coins Spent in Toad Town': np.int64(2016875), 'Levels Completed': np.int64(499640), 'Times Hit by Enemies': np.float64(39848.338303)}}\n",
      "\n",
      "File: mario_data_20250401.jsonl\n",
      "{'rows': 8000, 'columns': 19, 'unique_counts': {'Player Name': 200, 'Team': 16, 'World': 120, 'Vehicle Type': 70, 'Companion': 14, 'Kart Racing Rank': 5, 'Platforming Rank': 5, 'Boss Battle Rank': 5, 'Kart Role': 444, 'Participation in Battle Mode': 2, 'Mushroom Cup Participation': 2, 'Power-Ups Owned': 259, 'Primary Game': 70}, 'sums': {'Power-Ups Used': np.int64(140515), 'Team Points': np.float64(403490.054283), 'Lives Lost': np.float64(20406.640233), 'Coins Spent in Toad Town': np.int64(1994313), 'Levels Completed': np.int64(501300), 'Times Hit by Enemies': np.float64(40729.135843)}}\n",
      "\n",
      "File: mario_data_20250501.jsonl\n",
      "{'rows': 8000, 'columns': 19, 'unique_counts': {'Player Name': 630, 'Team': 16, 'World': 91, 'Vehicle Type': 70, 'Companion': 14, 'Kart Racing Rank': 5, 'Platforming Rank': 5, 'Boss Battle Rank': 5, 'Kart Role': 1008, 'Participation in Battle Mode': 2, 'Mushroom Cup Participation': 2, 'Power-Ups Owned': 259, 'Primary Game': 51}, 'sums': {'Power-Ups Used': np.int64(139956), 'Team Points': np.float64(397153.796756), 'Lives Lost': np.float64(20831.65546), 'Coins Spent in Toad Town': np.int64(1987932), 'Levels Completed': np.int64(498911), 'Times Hit by Enemies': np.float64(40284.211956)}}\n",
      "\n",
      "File: mario_data_20250601.jsonl\n",
      "{'rows': 8000, 'columns': 19, 'unique_counts': {'Player Name': 146, 'Team': 8, 'World': 118, 'Vehicle Type': 70, 'Companion': 14, 'Kart Racing Rank': 5, 'Platforming Rank': 5, 'Boss Battle Rank': 5, 'Kart Role': 841, 'Participation in Battle Mode': 2, 'Mushroom Cup Participation': 2, 'Power-Ups Owned': 259, 'Primary Game': 70}, 'sums': {'Power-Ups Used': np.int64(138652), 'Team Points': np.float64(409653.777794), 'Lives Lost': np.float64(20338.101241999997), 'Coins Spent in Toad Town': np.int64(1960098), 'Levels Completed': np.int64(497520), 'Times Hit by Enemies': np.float64(40111.688832)}}\n",
      "\n",
      "--- Combined DataFrame Metrics ---\n",
      "{'rows': 48000, 'columns': 19, 'unique_counts': {'Player Name': 1303, 'Team': 16, 'World': 120, 'Vehicle Type': 70, 'Companion': 14, 'Kart Racing Rank': 5, 'Platforming Rank': 5, 'Boss Battle Rank': 5, 'Kart Role': 1377, 'Participation in Battle Mode': 2, 'Mushroom Cup Participation': 2, 'Power-Ups Owned': 259, 'Primary Game': 70}, 'sums': {'Power-Ups Used': np.int64(838679), 'Team Points': np.float64(2400543.406932), 'Lives Lost': np.float64(123721.773116), 'Coins Spent in Toad Town': np.int64(11957797), 'Levels Completed': np.int64(2997262), 'Times Hit by Enemies': np.float64(241873.73956999998)}}\n"
     ]
    }
   ],
   "source": [
    "# --- Data Integrity Checks ---\n",
    "\n",
    "def get_metrics(df):\n",
    "    metrics = {}\n",
    "    metrics['rows'] = df.shape[0]\n",
    "    metrics['columns'] = df.shape[1]\n",
    "    metrics['unique_counts'] = {}\n",
    "    metrics['sums'] = {}\n",
    "    for col in df.columns:\n",
    "        if df[col].dtype == 'object' or df[col].dtype.name == 'category':\n",
    "            metrics['unique_counts'][col] = df[col].nunique()\n",
    "        elif np.issubdtype(df[col].dtype, np.number):\n",
    "            metrics['sums'][col] = df[col].sum()\n",
    "    return metrics\n",
    "\n",
    "# Collect metrics for each file before combining\n",
    "source_metrics = []\n",
    "for file in os.listdir(data_path):\n",
    "    if file.endswith('.jsonl'):\n",
    "        temp_df = pd.read_json(os.path.join(data_path, file))\n",
    "    elif file.endswith('.csv'):\n",
    "        temp_df = pd.read_csv(os.path.join(data_path, file))\n",
    "    else:\n",
    "        continue\n",
    "    source_metrics.append({'file': file, 'metrics': get_metrics(temp_df)})\n",
    "\n",
    "# Metrics for combined dataframe\n",
    "combined_metrics = get_metrics(df)\n",
    "\n",
    "print('--- Source File Metrics ---')\n",
    "for entry in source_metrics:\n",
    "    print(f\"File: {entry['file']}\")\n",
    "    print(entry['metrics'])\n",
    "    print()\n",
    "\n",
    "print('--- Combined DataFrame Metrics ---')\n",
    "print(combined_metrics)"
   ]
  },
  {
   "cell_type": "code",
   "execution_count": null,
   "metadata": {},
   "outputs": [],
   "source": []
  }
 ],
 "metadata": {
  "kernelspec": {
   "display_name": ".venv",
   "language": "python",
   "name": "python3"
  },
  "language_info": {
   "codemirror_mode": {
    "name": "ipython",
    "version": 3
   },
   "file_extension": ".py",
   "mimetype": "text/x-python",
   "name": "python",
   "nbconvert_exporter": "python",
   "pygments_lexer": "ipython3",
   "version": "3.12.7"
  }
 },
 "nbformat": 4,
 "nbformat_minor": 2
}
